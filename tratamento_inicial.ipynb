{
 "cells": [
  {
   "cell_type": "code",
   "execution_count": 1,
   "metadata": {},
   "outputs": [],
   "source": [
    "# Manipulação de dados\n",
    "import pandas as pd\n",
    "\n",
    "# Ignorar avisos\n",
    "import warnings\n",
    "warnings.filterwarnings('ignore')"
   ]
  },
  {
   "cell_type": "code",
   "execution_count": 2,
   "metadata": {},
   "outputs": [],
   "source": [
    "# Importa a base de dados em csv\n",
    "df = pd.read_csv('arquivos/data_bruta.csv')"
   ]
  },
  {
   "cell_type": "code",
   "execution_count": 3,
   "metadata": {},
   "outputs": [
    {
     "data": {
      "text/html": [
       "<div>\n",
       "<style scoped>\n",
       "    .dataframe tbody tr th:only-of-type {\n",
       "        vertical-align: middle;\n",
       "    }\n",
       "\n",
       "    .dataframe tbody tr th {\n",
       "        vertical-align: top;\n",
       "    }\n",
       "\n",
       "    .dataframe thead th {\n",
       "        text-align: right;\n",
       "    }\n",
       "</style>\n",
       "<table border=\"1\" class=\"dataframe\">\n",
       "  <thead>\n",
       "    <tr style=\"text-align: right;\">\n",
       "      <th></th>\n",
       "      <th>id</th>\n",
       "      <th>created_at</th>\n",
       "      <th>updated_at</th>\n",
       "      <th>deleted_at</th>\n",
       "      <th>name_hash</th>\n",
       "      <th>email_hash</th>\n",
       "      <th>address_hash</th>\n",
       "      <th>birth_date</th>\n",
       "      <th>status</th>\n",
       "      <th>version</th>\n",
       "      <th>city</th>\n",
       "      <th>state</th>\n",
       "      <th>neighborhood</th>\n",
       "      <th>last_date_purchase</th>\n",
       "      <th>average_ticket</th>\n",
       "      <th>items_quantity</th>\n",
       "      <th>all_revenue</th>\n",
       "      <th>all_orders</th>\n",
       "      <th>recency</th>\n",
       "      <th>marketing_source</th>\n",
       "    </tr>\n",
       "  </thead>\n",
       "  <tbody>\n",
       "    <tr>\n",
       "      <th>0</th>\n",
       "      <td>8bf7960e-3b93-468b-856e-6c6c5b56f52b</td>\n",
       "      <td>08/15/17 07:05 AM</td>\n",
       "      <td>01/14/21 11:23 AM</td>\n",
       "      <td>NaN</td>\n",
       "      <td>312d206168a318614897e8ccac43bff9</td>\n",
       "      <td>83eb3aed9a44377df80ce876dce92c9a</td>\n",
       "      <td>8b4bfaa0cbc41a16f46da15ddcd6a907</td>\n",
       "      <td>07/10/74 12:00 AM</td>\n",
       "      <td>active</td>\n",
       "      <td>2.31.7</td>\n",
       "      <td>Peixoto da Praia</td>\n",
       "      <td>AM</td>\n",
       "      <td>Aparecida 7ª Seção</td>\n",
       "      <td>01/14/21 11:23 AM</td>\n",
       "      <td>151.142942</td>\n",
       "      <td>10</td>\n",
       "      <td>906.857651</td>\n",
       "      <td>6</td>\n",
       "      <td>35</td>\n",
       "      <td>crm</td>\n",
       "    </tr>\n",
       "    <tr>\n",
       "      <th>1</th>\n",
       "      <td>a39535b5-4647-4680-b4f6-3aed57c1f1ff</td>\n",
       "      <td>12/31/19 09:53 PM</td>\n",
       "      <td>01/08/21 11:23 AM</td>\n",
       "      <td>NaN</td>\n",
       "      <td>de448fcb47d0d6a873b2eef52b5ee595</td>\n",
       "      <td>72678bb35e2ac84ed373e81dd9dca28c</td>\n",
       "      <td>22f1cfa1847f38da3f3cb114dd2b9247</td>\n",
       "      <td>07/06/40 12:00 AM</td>\n",
       "      <td>paused</td>\n",
       "      <td>3.30.12</td>\n",
       "      <td>Fernandes</td>\n",
       "      <td>RR</td>\n",
       "      <td>Santa Isabel</td>\n",
       "      <td>01/08/21 11:23 AM</td>\n",
       "      <td>236.991790</td>\n",
       "      <td>4</td>\n",
       "      <td>236.991790</td>\n",
       "      <td>1</td>\n",
       "      <td>41</td>\n",
       "      <td>organic_search</td>\n",
       "    </tr>\n",
       "    <tr>\n",
       "      <th>2</th>\n",
       "      <td>dc067cd2-c021-42bd-8c0e-beb267280e66</td>\n",
       "      <td>03/07/19 11:46 PM</td>\n",
       "      <td>01/07/21 11:23 AM</td>\n",
       "      <td>NaN</td>\n",
       "      <td>cb09e447ddc38283373d56bb46498e6a</td>\n",
       "      <td>668f4ee9add29c7bd02c485f1b7509e3</td>\n",
       "      <td>6cb47446a086ee6483b3eb954f11467a</td>\n",
       "      <td>03/18/63 12:00 AM</td>\n",
       "      <td>active</td>\n",
       "      <td>3.28.9</td>\n",
       "      <td>Lopes</td>\n",
       "      <td>RR</td>\n",
       "      <td>Estrela</td>\n",
       "      <td>01/07/21 11:23 AM</td>\n",
       "      <td>211.955597</td>\n",
       "      <td>13</td>\n",
       "      <td>2331.511572</td>\n",
       "      <td>11</td>\n",
       "      <td>42</td>\n",
       "      <td>organic_search</td>\n",
       "    </tr>\n",
       "  </tbody>\n",
       "</table>\n",
       "</div>"
      ],
      "text/plain": [
       "                                     id         created_at         updated_at  \\\n",
       "0  8bf7960e-3b93-468b-856e-6c6c5b56f52b  08/15/17 07:05 AM  01/14/21 11:23 AM   \n",
       "1  a39535b5-4647-4680-b4f6-3aed57c1f1ff  12/31/19 09:53 PM  01/08/21 11:23 AM   \n",
       "2  dc067cd2-c021-42bd-8c0e-beb267280e66  03/07/19 11:46 PM  01/07/21 11:23 AM   \n",
       "\n",
       "  deleted_at                         name_hash  \\\n",
       "0        NaN  312d206168a318614897e8ccac43bff9   \n",
       "1        NaN  de448fcb47d0d6a873b2eef52b5ee595   \n",
       "2        NaN  cb09e447ddc38283373d56bb46498e6a   \n",
       "\n",
       "                         email_hash                      address_hash  \\\n",
       "0  83eb3aed9a44377df80ce876dce92c9a  8b4bfaa0cbc41a16f46da15ddcd6a907   \n",
       "1  72678bb35e2ac84ed373e81dd9dca28c  22f1cfa1847f38da3f3cb114dd2b9247   \n",
       "2  668f4ee9add29c7bd02c485f1b7509e3  6cb47446a086ee6483b3eb954f11467a   \n",
       "\n",
       "          birth_date  status  version               city state  \\\n",
       "0  07/10/74 12:00 AM  active   2.31.7   Peixoto da Praia    AM   \n",
       "1  07/06/40 12:00 AM  paused  3.30.12          Fernandes    RR   \n",
       "2  03/18/63 12:00 AM  active   3.28.9              Lopes    RR   \n",
       "\n",
       "         neighborhood last_date_purchase  average_ticket  items_quantity  \\\n",
       "0  Aparecida 7ª Seção  01/14/21 11:23 AM      151.142942              10   \n",
       "1        Santa Isabel  01/08/21 11:23 AM      236.991790               4   \n",
       "2             Estrela  01/07/21 11:23 AM      211.955597              13   \n",
       "\n",
       "   all_revenue  all_orders  recency marketing_source  \n",
       "0   906.857651           6       35              crm  \n",
       "1   236.991790           1       41   organic_search  \n",
       "2  2331.511572          11       42   organic_search  "
      ]
     },
     "execution_count": 3,
     "metadata": {},
     "output_type": "execute_result"
    }
   ],
   "source": [
    "# Visualizar a base que importamos\n",
    "df.head(3)"
   ]
  },
  {
   "cell_type": "code",
   "execution_count": 4,
   "metadata": {},
   "outputs": [
    {
     "data": {
      "text/plain": [
       "Index(['id', 'created_at', 'updated_at', 'deleted_at', 'name_hash',\n",
       "       'email_hash', 'address_hash', 'birth_date', 'status', 'version', 'city',\n",
       "       'state', 'neighborhood', 'last_date_purchase', 'average_ticket',\n",
       "       'items_quantity', 'all_revenue', 'all_orders', 'recency',\n",
       "       'marketing_source'],\n",
       "      dtype='object')"
      ]
     },
     "execution_count": 4,
     "metadata": {},
     "output_type": "execute_result"
    }
   ],
   "source": [
    "# Exibe colunas disponíveis\n",
    "df.columns"
   ]
  },
  {
   "cell_type": "code",
   "execution_count": 5,
   "metadata": {},
   "outputs": [
    {
     "name": "stdout",
     "output_type": "stream",
     "text": [
      "<class 'pandas.core.frame.DataFrame'>\n",
      "RangeIndex: 10000 entries, 0 to 9999\n",
      "Data columns (total 20 columns):\n",
      " #   Column              Non-Null Count  Dtype  \n",
      "---  ------              --------------  -----  \n",
      " 0   id                  10000 non-null  object \n",
      " 1   created_at          10000 non-null  object \n",
      " 2   updated_at          10000 non-null  object \n",
      " 3   deleted_at          505 non-null    object \n",
      " 4   name_hash           10000 non-null  object \n",
      " 5   email_hash          10000 non-null  object \n",
      " 6   address_hash        10000 non-null  object \n",
      " 7   birth_date          10000 non-null  object \n",
      " 8   status              10000 non-null  object \n",
      " 9   version             10000 non-null  object \n",
      " 10  city                10000 non-null  object \n",
      " 11  state               10000 non-null  object \n",
      " 12  neighborhood        10000 non-null  object \n",
      " 13  last_date_purchase  10000 non-null  object \n",
      " 14  average_ticket      10000 non-null  float64\n",
      " 15  items_quantity      10000 non-null  int64  \n",
      " 16  all_revenue         10000 non-null  float64\n",
      " 17  all_orders          10000 non-null  int64  \n",
      " 18  recency             10000 non-null  int64  \n",
      " 19  marketing_source    10000 non-null  object \n",
      "dtypes: float64(2), int64(3), object(15)\n",
      "memory usage: 1.5+ MB\n"
     ]
    }
   ],
   "source": [
    "# Verifica tipo de dados\n",
    "df.info()"
   ]
  },
  {
   "cell_type": "code",
   "execution_count": 6,
   "metadata": {},
   "outputs": [
    {
     "data": {
      "text/plain": [
       "id                       0\n",
       "created_at               0\n",
       "updated_at               0\n",
       "deleted_at            9495\n",
       "name_hash                0\n",
       "email_hash               0\n",
       "address_hash             0\n",
       "birth_date               0\n",
       "status                   0\n",
       "version                  0\n",
       "city                     0\n",
       "state                    0\n",
       "neighborhood             0\n",
       "last_date_purchase       0\n",
       "average_ticket           0\n",
       "items_quantity           0\n",
       "all_revenue              0\n",
       "all_orders               0\n",
       "recency                  0\n",
       "marketing_source         0\n",
       "dtype: int64"
      ]
     },
     "execution_count": 6,
     "metadata": {},
     "output_type": "execute_result"
    }
   ],
   "source": [
    "# Verifica a existência de valores nulos\n",
    "df.isnull().sum()"
   ]
  },
  {
   "cell_type": "code",
   "execution_count": 7,
   "metadata": {},
   "outputs": [
    {
     "data": {
      "text/plain": [
       "id                    10000\n",
       "created_at             9975\n",
       "updated_at              550\n",
       "deleted_at              505\n",
       "name_hash             10000\n",
       "email_hash            10000\n",
       "address_hash          10000\n",
       "birth_date             7876\n",
       "status                    3\n",
       "version                2905\n",
       "city                   2406\n",
       "state                    27\n",
       "neighborhood            482\n",
       "last_date_purchase      550\n",
       "average_ticket        10000\n",
       "items_quantity           19\n",
       "all_revenue            9069\n",
       "all_orders               12\n",
       "recency                 463\n",
       "marketing_source          6\n",
       "dtype: int64"
      ]
     },
     "execution_count": 7,
     "metadata": {},
     "output_type": "execute_result"
    }
   ],
   "source": [
    "# Verifica a quantidade de valores únicos\n",
    "df.nunique()"
   ]
  },
  {
   "cell_type": "code",
   "execution_count": 8,
   "metadata": {},
   "outputs": [
    {
     "data": {
      "text/plain": [
       "id                    10000\n",
       "created_at            10000\n",
       "updated_at            10000\n",
       "deleted_at              505\n",
       "name_hash             10000\n",
       "email_hash            10000\n",
       "address_hash          10000\n",
       "birth_date            10000\n",
       "status                10000\n",
       "version               10000\n",
       "city                  10000\n",
       "state                 10000\n",
       "neighborhood          10000\n",
       "last_date_purchase    10000\n",
       "average_ticket        10000\n",
       "items_quantity        10000\n",
       "all_revenue           10000\n",
       "all_orders            10000\n",
       "recency               10000\n",
       "marketing_source      10000\n",
       "dtype: int64"
      ]
     },
     "execution_count": 8,
     "metadata": {},
     "output_type": "execute_result"
    }
   ],
   "source": [
    "df.count()"
   ]
  },
  {
   "cell_type": "code",
   "execution_count": 9,
   "metadata": {},
   "outputs": [],
   "source": [
    "# Salva base consolidada em parquet\n",
    "df.to_parquet('arquivos/data_tratada.parquet', index=False, compression = 'gzip')"
   ]
  }
 ],
 "metadata": {
  "kernelspec": {
   "display_name": "Python 3",
   "language": "python",
   "name": "python3"
  },
  "language_info": {
   "codemirror_mode": {
    "name": "ipython",
    "version": 3
   },
   "file_extension": ".py",
   "mimetype": "text/x-python",
   "name": "python",
   "nbconvert_exporter": "python",
   "pygments_lexer": "ipython3",
   "version": "3.11.2"
  },
  "orig_nbformat": 4
 },
 "nbformat": 4,
 "nbformat_minor": 2
}
