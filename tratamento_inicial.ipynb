{
 "cells": [
  {
   "cell_type": "markdown",
   "metadata": {},
   "source": [
    "## Bibliotecas"
   ]
  },
  {
   "cell_type": "code",
   "execution_count": 50,
   "metadata": {},
   "outputs": [],
   "source": [
    "# Manipulação de dados\n",
    "import pandas as pd\n",
    "\n",
    "# Ignorar avisos\n",
    "import warnings\n",
    "warnings.filterwarnings('ignore')"
   ]
  },
  {
   "cell_type": "markdown",
   "metadata": {},
   "source": [
    "## Leitura da base"
   ]
  },
  {
   "cell_type": "code",
   "execution_count": 51,
   "metadata": {},
   "outputs": [],
   "source": [
    "# Importa a base de dados em csv\n",
    "df = pd.read_csv('arquivos/data_bruta.csv')"
   ]
  },
  {
   "cell_type": "markdown",
   "metadata": {},
   "source": [
    "## Estudo da base"
   ]
  },
  {
   "cell_type": "code",
   "execution_count": 52,
   "metadata": {},
   "outputs": [
    {
     "data": {
      "text/html": [
       "<div>\n",
       "<style scoped>\n",
       "    .dataframe tbody tr th:only-of-type {\n",
       "        vertical-align: middle;\n",
       "    }\n",
       "\n",
       "    .dataframe tbody tr th {\n",
       "        vertical-align: top;\n",
       "    }\n",
       "\n",
       "    .dataframe thead th {\n",
       "        text-align: right;\n",
       "    }\n",
       "</style>\n",
       "<table border=\"1\" class=\"dataframe\">\n",
       "  <thead>\n",
       "    <tr style=\"text-align: right;\">\n",
       "      <th></th>\n",
       "      <th>id</th>\n",
       "      <th>created_at</th>\n",
       "      <th>updated_at</th>\n",
       "      <th>deleted_at</th>\n",
       "      <th>name_hash</th>\n",
       "      <th>email_hash</th>\n",
       "      <th>address_hash</th>\n",
       "      <th>birth_date</th>\n",
       "      <th>status</th>\n",
       "      <th>version</th>\n",
       "      <th>city</th>\n",
       "      <th>state</th>\n",
       "      <th>neighborhood</th>\n",
       "      <th>last_date_purchase</th>\n",
       "      <th>average_ticket</th>\n",
       "      <th>items_quantity</th>\n",
       "      <th>all_revenue</th>\n",
       "      <th>all_orders</th>\n",
       "      <th>recency</th>\n",
       "      <th>marketing_source</th>\n",
       "    </tr>\n",
       "  </thead>\n",
       "  <tbody>\n",
       "    <tr>\n",
       "      <th>0</th>\n",
       "      <td>8bf7960e-3b93-468b-856e-6c6c5b56f52b</td>\n",
       "      <td>08/15/17 07:05 AM</td>\n",
       "      <td>01/14/21 11:23 AM</td>\n",
       "      <td>NaN</td>\n",
       "      <td>312d206168a318614897e8ccac43bff9</td>\n",
       "      <td>83eb3aed9a44377df80ce876dce92c9a</td>\n",
       "      <td>8b4bfaa0cbc41a16f46da15ddcd6a907</td>\n",
       "      <td>07/10/74 12:00 AM</td>\n",
       "      <td>active</td>\n",
       "      <td>2.31.7</td>\n",
       "      <td>Peixoto da Praia</td>\n",
       "      <td>AM</td>\n",
       "      <td>Aparecida 7ª Seção</td>\n",
       "      <td>01/14/21 11:23 AM</td>\n",
       "      <td>151.142942</td>\n",
       "      <td>10</td>\n",
       "      <td>906.857651</td>\n",
       "      <td>6</td>\n",
       "      <td>35</td>\n",
       "      <td>crm</td>\n",
       "    </tr>\n",
       "    <tr>\n",
       "      <th>1</th>\n",
       "      <td>a39535b5-4647-4680-b4f6-3aed57c1f1ff</td>\n",
       "      <td>12/31/19 09:53 PM</td>\n",
       "      <td>01/08/21 11:23 AM</td>\n",
       "      <td>NaN</td>\n",
       "      <td>de448fcb47d0d6a873b2eef52b5ee595</td>\n",
       "      <td>72678bb35e2ac84ed373e81dd9dca28c</td>\n",
       "      <td>22f1cfa1847f38da3f3cb114dd2b9247</td>\n",
       "      <td>07/06/40 12:00 AM</td>\n",
       "      <td>paused</td>\n",
       "      <td>3.30.12</td>\n",
       "      <td>Fernandes</td>\n",
       "      <td>RR</td>\n",
       "      <td>Santa Isabel</td>\n",
       "      <td>01/08/21 11:23 AM</td>\n",
       "      <td>236.991790</td>\n",
       "      <td>4</td>\n",
       "      <td>236.991790</td>\n",
       "      <td>1</td>\n",
       "      <td>41</td>\n",
       "      <td>organic_search</td>\n",
       "    </tr>\n",
       "    <tr>\n",
       "      <th>2</th>\n",
       "      <td>dc067cd2-c021-42bd-8c0e-beb267280e66</td>\n",
       "      <td>03/07/19 11:46 PM</td>\n",
       "      <td>01/07/21 11:23 AM</td>\n",
       "      <td>NaN</td>\n",
       "      <td>cb09e447ddc38283373d56bb46498e6a</td>\n",
       "      <td>668f4ee9add29c7bd02c485f1b7509e3</td>\n",
       "      <td>6cb47446a086ee6483b3eb954f11467a</td>\n",
       "      <td>03/18/63 12:00 AM</td>\n",
       "      <td>active</td>\n",
       "      <td>3.28.9</td>\n",
       "      <td>Lopes</td>\n",
       "      <td>RR</td>\n",
       "      <td>Estrela</td>\n",
       "      <td>01/07/21 11:23 AM</td>\n",
       "      <td>211.955597</td>\n",
       "      <td>13</td>\n",
       "      <td>2331.511572</td>\n",
       "      <td>11</td>\n",
       "      <td>42</td>\n",
       "      <td>organic_search</td>\n",
       "    </tr>\n",
       "  </tbody>\n",
       "</table>\n",
       "</div>"
      ],
      "text/plain": [
       "                                     id         created_at         updated_at  \\\n",
       "0  8bf7960e-3b93-468b-856e-6c6c5b56f52b  08/15/17 07:05 AM  01/14/21 11:23 AM   \n",
       "1  a39535b5-4647-4680-b4f6-3aed57c1f1ff  12/31/19 09:53 PM  01/08/21 11:23 AM   \n",
       "2  dc067cd2-c021-42bd-8c0e-beb267280e66  03/07/19 11:46 PM  01/07/21 11:23 AM   \n",
       "\n",
       "  deleted_at                         name_hash  \\\n",
       "0        NaN  312d206168a318614897e8ccac43bff9   \n",
       "1        NaN  de448fcb47d0d6a873b2eef52b5ee595   \n",
       "2        NaN  cb09e447ddc38283373d56bb46498e6a   \n",
       "\n",
       "                         email_hash                      address_hash  \\\n",
       "0  83eb3aed9a44377df80ce876dce92c9a  8b4bfaa0cbc41a16f46da15ddcd6a907   \n",
       "1  72678bb35e2ac84ed373e81dd9dca28c  22f1cfa1847f38da3f3cb114dd2b9247   \n",
       "2  668f4ee9add29c7bd02c485f1b7509e3  6cb47446a086ee6483b3eb954f11467a   \n",
       "\n",
       "          birth_date  status  version               city state  \\\n",
       "0  07/10/74 12:00 AM  active   2.31.7   Peixoto da Praia    AM   \n",
       "1  07/06/40 12:00 AM  paused  3.30.12          Fernandes    RR   \n",
       "2  03/18/63 12:00 AM  active   3.28.9              Lopes    RR   \n",
       "\n",
       "         neighborhood last_date_purchase  average_ticket  items_quantity  \\\n",
       "0  Aparecida 7ª Seção  01/14/21 11:23 AM      151.142942              10   \n",
       "1        Santa Isabel  01/08/21 11:23 AM      236.991790               4   \n",
       "2             Estrela  01/07/21 11:23 AM      211.955597              13   \n",
       "\n",
       "   all_revenue  all_orders  recency marketing_source  \n",
       "0   906.857651           6       35              crm  \n",
       "1   236.991790           1       41   organic_search  \n",
       "2  2331.511572          11       42   organic_search  "
      ]
     },
     "execution_count": 52,
     "metadata": {},
     "output_type": "execute_result"
    }
   ],
   "source": [
    "# Visualizar a base que importamos\n",
    "df.head(3)"
   ]
  },
  {
   "cell_type": "code",
   "execution_count": 53,
   "metadata": {},
   "outputs": [
    {
     "data": {
      "text/plain": [
       "Index(['id', 'created_at', 'updated_at', 'deleted_at', 'name_hash',\n",
       "       'email_hash', 'address_hash', 'birth_date', 'status', 'version', 'city',\n",
       "       'state', 'neighborhood', 'last_date_purchase', 'average_ticket',\n",
       "       'items_quantity', 'all_revenue', 'all_orders', 'recency',\n",
       "       'marketing_source'],\n",
       "      dtype='object')"
      ]
     },
     "execution_count": 53,
     "metadata": {},
     "output_type": "execute_result"
    }
   ],
   "source": [
    "# Exibe colunas disponíveis\n",
    "df.columns"
   ]
  },
  {
   "cell_type": "code",
   "execution_count": 54,
   "metadata": {},
   "outputs": [
    {
     "name": "stdout",
     "output_type": "stream",
     "text": [
      "<class 'pandas.core.frame.DataFrame'>\n",
      "RangeIndex: 10000 entries, 0 to 9999\n",
      "Data columns (total 20 columns):\n",
      " #   Column              Non-Null Count  Dtype  \n",
      "---  ------              --------------  -----  \n",
      " 0   id                  10000 non-null  object \n",
      " 1   created_at          10000 non-null  object \n",
      " 2   updated_at          10000 non-null  object \n",
      " 3   deleted_at          505 non-null    object \n",
      " 4   name_hash           10000 non-null  object \n",
      " 5   email_hash          10000 non-null  object \n",
      " 6   address_hash        10000 non-null  object \n",
      " 7   birth_date          10000 non-null  object \n",
      " 8   status              10000 non-null  object \n",
      " 9   version             10000 non-null  object \n",
      " 10  city                10000 non-null  object \n",
      " 11  state               10000 non-null  object \n",
      " 12  neighborhood        10000 non-null  object \n",
      " 13  last_date_purchase  10000 non-null  object \n",
      " 14  average_ticket      10000 non-null  float64\n",
      " 15  items_quantity      10000 non-null  int64  \n",
      " 16  all_revenue         10000 non-null  float64\n",
      " 17  all_orders          10000 non-null  int64  \n",
      " 18  recency             10000 non-null  int64  \n",
      " 19  marketing_source    10000 non-null  object \n",
      "dtypes: float64(2), int64(3), object(15)\n",
      "memory usage: 1.5+ MB\n"
     ]
    }
   ],
   "source": [
    "# Verifica tipo de dados\n",
    "df.info()"
   ]
  },
  {
   "cell_type": "code",
   "execution_count": 55,
   "metadata": {},
   "outputs": [
    {
     "data": {
      "text/plain": [
       "id                       0\n",
       "created_at               0\n",
       "updated_at               0\n",
       "deleted_at            9495\n",
       "name_hash                0\n",
       "email_hash               0\n",
       "address_hash             0\n",
       "birth_date               0\n",
       "status                   0\n",
       "version                  0\n",
       "city                     0\n",
       "state                    0\n",
       "neighborhood             0\n",
       "last_date_purchase       0\n",
       "average_ticket           0\n",
       "items_quantity           0\n",
       "all_revenue              0\n",
       "all_orders               0\n",
       "recency                  0\n",
       "marketing_source         0\n",
       "dtype: int64"
      ]
     },
     "execution_count": 55,
     "metadata": {},
     "output_type": "execute_result"
    }
   ],
   "source": [
    "# Verifica a existência de valores nulos\n",
    "df.isnull().sum()"
   ]
  },
  {
   "cell_type": "code",
   "execution_count": 56,
   "metadata": {},
   "outputs": [
    {
     "data": {
      "text/plain": [
       "id                    10000\n",
       "created_at             9975\n",
       "updated_at              550\n",
       "deleted_at              505\n",
       "name_hash             10000\n",
       "email_hash            10000\n",
       "address_hash          10000\n",
       "birth_date             7876\n",
       "status                    3\n",
       "version                2905\n",
       "city                   2406\n",
       "state                    27\n",
       "neighborhood            482\n",
       "last_date_purchase      550\n",
       "average_ticket        10000\n",
       "items_quantity           19\n",
       "all_revenue            9069\n",
       "all_orders               12\n",
       "recency                 463\n",
       "marketing_source          6\n",
       "dtype: int64"
      ]
     },
     "execution_count": 56,
     "metadata": {},
     "output_type": "execute_result"
    }
   ],
   "source": [
    "# Verifica a quantidade de valores únicos\n",
    "df.nunique()"
   ]
  },
  {
   "cell_type": "code",
   "execution_count": 57,
   "metadata": {},
   "outputs": [
    {
     "data": {
      "text/html": [
       "<div>\n",
       "<style scoped>\n",
       "    .dataframe tbody tr th:only-of-type {\n",
       "        vertical-align: middle;\n",
       "    }\n",
       "\n",
       "    .dataframe tbody tr th {\n",
       "        vertical-align: top;\n",
       "    }\n",
       "\n",
       "    .dataframe thead th {\n",
       "        text-align: right;\n",
       "    }\n",
       "</style>\n",
       "<table border=\"1\" class=\"dataframe\">\n",
       "  <thead>\n",
       "    <tr style=\"text-align: right;\">\n",
       "      <th></th>\n",
       "      <th>average_ticket</th>\n",
       "      <th>items_quantity</th>\n",
       "      <th>all_revenue</th>\n",
       "      <th>all_orders</th>\n",
       "      <th>recency</th>\n",
       "    </tr>\n",
       "  </thead>\n",
       "  <tbody>\n",
       "    <tr>\n",
       "      <th>count</th>\n",
       "      <td>10000.000000</td>\n",
       "      <td>10000.00000</td>\n",
       "      <td>10000.000000</td>\n",
       "      <td>10000.000000</td>\n",
       "      <td>10000.000000</td>\n",
       "    </tr>\n",
       "    <tr>\n",
       "      <th>mean</th>\n",
       "      <td>216.894709</td>\n",
       "      <td>8.49980</td>\n",
       "      <td>1174.888603</td>\n",
       "      <td>5.415400</td>\n",
       "      <td>67.192900</td>\n",
       "    </tr>\n",
       "    <tr>\n",
       "      <th>std</th>\n",
       "      <td>22.757213</td>\n",
       "      <td>3.02604</td>\n",
       "      <td>763.141973</td>\n",
       "      <td>3.457577</td>\n",
       "      <td>175.723276</td>\n",
       "    </tr>\n",
       "    <tr>\n",
       "      <th>min</th>\n",
       "      <td>131.378672</td>\n",
       "      <td>1.00000</td>\n",
       "      <td>0.000000</td>\n",
       "      <td>0.000000</td>\n",
       "      <td>1.000000</td>\n",
       "    </tr>\n",
       "    <tr>\n",
       "      <th>25%</th>\n",
       "      <td>201.398851</td>\n",
       "      <td>6.00000</td>\n",
       "      <td>494.873564</td>\n",
       "      <td>2.000000</td>\n",
       "      <td>31.000000</td>\n",
       "    </tr>\n",
       "    <tr>\n",
       "      <th>50%</th>\n",
       "      <td>217.019478</td>\n",
       "      <td>8.00000</td>\n",
       "      <td>1172.751918</td>\n",
       "      <td>5.000000</td>\n",
       "      <td>35.000000</td>\n",
       "    </tr>\n",
       "    <tr>\n",
       "      <th>75%</th>\n",
       "      <td>232.455042</td>\n",
       "      <td>11.00000</td>\n",
       "      <td>1798.475045</td>\n",
       "      <td>8.000000</td>\n",
       "      <td>39.000000</td>\n",
       "    </tr>\n",
       "    <tr>\n",
       "      <th>max</th>\n",
       "      <td>303.386848</td>\n",
       "      <td>19.00000</td>\n",
       "      <td>3225.654163</td>\n",
       "      <td>11.000000</td>\n",
       "      <td>1820.000000</td>\n",
       "    </tr>\n",
       "  </tbody>\n",
       "</table>\n",
       "</div>"
      ],
      "text/plain": [
       "       average_ticket  items_quantity   all_revenue    all_orders  \\\n",
       "count    10000.000000     10000.00000  10000.000000  10000.000000   \n",
       "mean       216.894709         8.49980   1174.888603      5.415400   \n",
       "std         22.757213         3.02604    763.141973      3.457577   \n",
       "min        131.378672         1.00000      0.000000      0.000000   \n",
       "25%        201.398851         6.00000    494.873564      2.000000   \n",
       "50%        217.019478         8.00000   1172.751918      5.000000   \n",
       "75%        232.455042        11.00000   1798.475045      8.000000   \n",
       "max        303.386848        19.00000   3225.654163     11.000000   \n",
       "\n",
       "            recency  \n",
       "count  10000.000000  \n",
       "mean      67.192900  \n",
       "std      175.723276  \n",
       "min        1.000000  \n",
       "25%       31.000000  \n",
       "50%       35.000000  \n",
       "75%       39.000000  \n",
       "max     1820.000000  "
      ]
     },
     "execution_count": 57,
     "metadata": {},
     "output_type": "execute_result"
    }
   ],
   "source": [
    "# Analisa dados estatísticos\n",
    "df.describe()"
   ]
  },
  {
   "cell_type": "code",
   "execution_count": null,
   "metadata": {},
   "outputs": [],
   "source": [
    "colunas = ['id', 'birth_date', 'created_at', 'deleted_at', 'last_date_purchase', 'status', 'recency', 'state', 'marketing_source', 'version', 'average_ticket', 'all_orders', 'all_revenue', 'items_quantity']\n",
    "df = df[colunas]"
   ]
  },
  {
   "cell_type": "markdown",
   "metadata": {},
   "source": [
    "## Tratamento da base"
   ]
  },
  {
   "cell_type": "code",
   "execution_count": 60,
   "metadata": {},
   "outputs": [],
   "source": [
    "# Converter a coluna \"deleted_at\" para o formato de data\n",
    "df['deleted_at'] = pd.to_datetime(df['deleted_at'])\n",
    "\n",
    "# Converter a coluna \"created_at\" para o formato de data\n",
    "df['created_at'] = pd.to_datetime(df['created_at'])"
   ]
  },
  {
   "cell_type": "code",
   "execution_count": 61,
   "metadata": {},
   "outputs": [],
   "source": [
    "# Cria função para consertar interpretação de data do pandas\n",
    "def fix_date_format(date_str):\n",
    "\n",
    "    if \"AM\" in date_str:\n",
    "        # Formato: MM/DD/YY HH:MM AM/PM\n",
    "        date_obj = pd.to_datetime(date_str, format=\"%m/%d/%y %I:%M %p\", errors='coerce')\n",
    "\n",
    "        # Se o ano for maior que 2022, subtrai 100 para obter o século correto\n",
    "        if date_obj.year > 2022:\n",
    "            date_obj = date_obj.replace(year=date_obj.year - 100)\n",
    "\n",
    "    else:\n",
    "        # Formato: DD/MM/YYYY HH:MM\n",
    "        date_obj = pd.to_datetime(date_str, format=\"%d/%m/%Y %H:%M\", errors='coerce')\n",
    "    return date_obj\n",
    "\n",
    "# Aplicar a função para corrigir o formato da coluna \"birth_date\"\n",
    "df['birth_date'] = df['birth_date'].apply(fix_date_format)"
   ]
  },
  {
   "cell_type": "code",
   "execution_count": 62,
   "metadata": {},
   "outputs": [
    {
     "name": "stdout",
     "output_type": "stream",
     "text": [
      "Data inicial: 2016-02-19\n",
      "Data final: 2021-02-18\n"
     ]
    }
   ],
   "source": [
    "# Verificar período da base\n",
    "inicio = df['created_at'].dt.date.min()\n",
    "print(f'Data inicial: {inicio}')\n",
    "\n",
    "fim = df['created_at'].dt.date.max()\n",
    "print(f'Data final: {fim}')"
   ]
  },
  {
   "cell_type": "markdown",
   "metadata": {},
   "source": [
    "## Observações iniciais"
   ]
  },
  {
   "cell_type": "markdown",
   "metadata": {},
   "source": [
    "• A base de dados contém informações relacionadas a assinaturas de clientes, com um total de 10.000 registros.\n",
    "\n",
    "• Existe uma coluna com valores ausentes, a coluna \"deleted_at\", que representa a data de cancelamento da assinatura. Cerca de 9.495 registros não possuem essa informação, o que indica que esses clientes ainda são assinantes ativos.\n",
    "\n",
    "• As colunas \"birth_date\", \"created_at\" e \"updated_at\" estão representadas como objetos, indicando que essas colunas podem conter informações de data e hora que precisaram ser convertidas para o tipo de dado correto. Porém, foi observado que, ao tratar a coluna \"birth_date\", alguns anos de nascimento estavam sendo interpretados de forma errada (por exemplo: uma pessoa nascida em 63 estava sendo considerada nascida em 2063). A correta conversão dessas colunas permitirá que realizemos análises temporais e identifiquemos padrões ao longo do tempo.\n",
    "\n",
    "• A coluna \"status\" representa o status da assinatura, e ao verificar os valores únicos, identificamos que existem três tipos possíveis: \"active\", \"paused\" e \"inactive\". A análise da distribuição desses status pode revelar insights sobre o comportamento dos clientes em relação à assinatura.\n",
    "\n",
    "• A coluna \"version\" indica a versão da assinatura e possui 2.905 valores únicos. Será interessante investigar a relevância dessa coluna para entender se ela possui alguma relação com o churn. Uma análise mais detalhada pode revelar se determinadas versões de assinatura têm maior tendência ao churn do que outras.\n",
    "\n",
    "• As colunas \"state\" e \"marketing_source\" representam o estado do cliente e o canal de marketing que converteu a assinatura, respectivamente. Ambas as colunas possuem valores categóricos que podem ser úteis para análises mais detalhadas. A análise da distribuição dessas categorias pode fornecer insights sobre o desempenho de cada estado e canal de marketing em relação à retenção de clientes.\n",
    "\n",
    "• A coluna \"average_ticket\" apresenta valores numéricos representando a média de gasto por pedido dos clientes. Será relevante analisar como essa métrica pode influenciar no churn. A identificação de padrões entre a média de gasto e o churn pode ajudar a entender se clientes com maiores ou menores gastos têm maior probabilidade de cancelar a assinatura.\n",
    "\n",
    "• A coluna \"recency\" indica o tempo desde a última compra do cliente. Essa métrica pode ser um fator importante para entender o comportamento dos clientes e sua relação com o churn. Uma análise mais aprofundada dessa métrica pode revelar se clientes com maior tempo desde a última compra estão mais propensos a cancelar a assinatura.\n",
    "\n",
    "• A coluna \"items_quantity\" representa a média de itens na assinatura de cada cliente. Essa informação pode ser útil para avaliar o engajamento dos clientes com os produtos da assinatura. Uma análise dos clientes com maior e menor quantidade média de itens pode fornecer insights sobre o impacto desse fator no churn."
   ]
  },
  {
   "cell_type": "markdown",
   "metadata": {},
   "source": [
    "## Salva base em parquet"
   ]
  },
  {
   "cell_type": "code",
   "execution_count": 63,
   "metadata": {},
   "outputs": [],
   "source": [
    "# Salva base consolidada em parquet\n",
    "df.to_parquet('arquivos/data_tratada.parquet', index=False, compression = 'gzip')"
   ]
  }
 ],
 "metadata": {
  "kernelspec": {
   "display_name": "Python 3",
   "language": "python",
   "name": "python3"
  },
  "language_info": {
   "codemirror_mode": {
    "name": "ipython",
    "version": 3
   },
   "file_extension": ".py",
   "mimetype": "text/x-python",
   "name": "python",
   "nbconvert_exporter": "python",
   "pygments_lexer": "ipython3",
   "version": "3.11.2"
  },
  "orig_nbformat": 4
 },
 "nbformat": 4,
 "nbformat_minor": 2
}
